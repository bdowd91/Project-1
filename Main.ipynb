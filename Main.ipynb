{
 "cells": [
  {
   "cell_type": "markdown",
   "metadata": {},
   "source": [
    "# Main Program"
   ]
  },
  {
   "cell_type": "code",
   "execution_count": 1,
   "metadata": {},
   "outputs": [],
   "source": [
    "#import dependencies\n",
    "import pandas as pd\n",
    "import numpy as np\n",
    "import requests\n",
    "import json\n",
    "import matplotlib.pyplot as plt"
   ]
  },
  {
   "cell_type": "code",
   "execution_count": 2,
   "metadata": {},
   "outputs": [],
   "source": [
    "#set stub api url\n",
    "urlstub = \"https://api.collegefootballdata.com\""
   ]
  },
  {
   "cell_type": "code",
   "execution_count": 3,
   "metadata": {},
   "outputs": [],
   "source": [
    "#create list to iterate through for years 2004-2019\n",
    "years = np.arange(2004,2020,1)"
   ]
  },
  {
   "cell_type": "code",
   "execution_count": 4,
   "metadata": {},
   "outputs": [],
   "source": [
    "#get the FBS teams from each year\n",
    "fbsSchoolFrame = pd.DataFrame({'Year':[],\n",
    "                               'School':[],\n",
    "                               'Conference':[]})\n",
    "for y in years:\n",
    "    fbsYearSchoolList = []\n",
    "    fbsYearSchoolConfList = []\n",
    "    queryurl = f\"{urlstub}/teams/fbs?year={y}\"\n",
    "    resp = requests.get(queryurl)\n",
    "    respjs = resp.json()\n",
    "    \n",
    "    #iterate through the response to get the school name\n",
    "    for i in range(len(respjs)):\n",
    "        fbsYearSchoolList.append(respjs[i]['school'])\n",
    "        fbsYearSchoolConfList.append(respjs[i]['conference'])\n",
    "        \n",
    "    #store per year and append to overall dataframe\n",
    "    fbsYearFrame = pd.DataFrame({'School': fbsYearSchoolList,\n",
    "                                 'Conference': fbsYearSchoolConfList})\n",
    "    fbsYearFrame['Year'] = int(y)\n",
    "    fbsSchoolFrame = fbsSchoolFrame.append(fbsYearFrame, ignore_index=True, sort=False)"
   ]
  },
  {
   "cell_type": "code",
   "execution_count": 5,
   "metadata": {},
   "outputs": [
    {
     "data": {
      "text/html": [
       "<div>\n",
       "<style scoped>\n",
       "    .dataframe tbody tr th:only-of-type {\n",
       "        vertical-align: middle;\n",
       "    }\n",
       "\n",
       "    .dataframe tbody tr th {\n",
       "        vertical-align: top;\n",
       "    }\n",
       "\n",
       "    .dataframe thead th {\n",
       "        text-align: right;\n",
       "    }\n",
       "</style>\n",
       "<table border=\"1\" class=\"dataframe\">\n",
       "  <thead>\n",
       "    <tr style=\"text-align: right;\">\n",
       "      <th></th>\n",
       "      <th>Year</th>\n",
       "      <th>School</th>\n",
       "      <th>Conference</th>\n",
       "    </tr>\n",
       "  </thead>\n",
       "  <tbody>\n",
       "    <tr>\n",
       "      <td>0</td>\n",
       "      <td>2004</td>\n",
       "      <td>Air Force</td>\n",
       "      <td>Mountain West</td>\n",
       "    </tr>\n",
       "    <tr>\n",
       "      <td>1</td>\n",
       "      <td>2004</td>\n",
       "      <td>Akron</td>\n",
       "      <td>Mid-American</td>\n",
       "    </tr>\n",
       "    <tr>\n",
       "      <td>2</td>\n",
       "      <td>2004</td>\n",
       "      <td>Alabama</td>\n",
       "      <td>SEC</td>\n",
       "    </tr>\n",
       "    <tr>\n",
       "      <td>3</td>\n",
       "      <td>2004</td>\n",
       "      <td>Arizona</td>\n",
       "      <td>Pac-10</td>\n",
       "    </tr>\n",
       "    <tr>\n",
       "      <td>4</td>\n",
       "      <td>2004</td>\n",
       "      <td>Arizona State</td>\n",
       "      <td>Pac-10</td>\n",
       "    </tr>\n",
       "  </tbody>\n",
       "</table>\n",
       "</div>"
      ],
      "text/plain": [
       "   Year         School     Conference\n",
       "0  2004      Air Force  Mountain West\n",
       "1  2004          Akron   Mid-American\n",
       "2  2004        Alabama            SEC\n",
       "3  2004        Arizona         Pac-10\n",
       "4  2004  Arizona State         Pac-10"
      ]
     },
     "execution_count": 5,
     "metadata": {},
     "output_type": "execute_result"
    }
   ],
   "source": [
    "#convert year to an integer and preview dataframe\n",
    "fbsSchoolFrame['Year'] = fbsSchoolFrame['Year'].astype(int)\n",
    "fbsSchoolFrame.head()"
   ]
  },
  {
   "cell_type": "code",
   "execution_count": null,
   "metadata": {},
   "outputs": [],
   "source": []
  }
 ],
 "metadata": {
  "kernelspec": {
   "display_name": "Python 3",
   "language": "python",
   "name": "python3"
  },
  "language_info": {
   "codemirror_mode": {
    "name": "ipython",
    "version": 3
   },
   "file_extension": ".py",
   "mimetype": "text/x-python",
   "name": "python",
   "nbconvert_exporter": "python",
   "pygments_lexer": "ipython3",
   "version": "3.7.4"
  }
 },
 "nbformat": 4,
 "nbformat_minor": 2
}
