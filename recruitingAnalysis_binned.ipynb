{
 "cells": [
  {
   "cell_type": "markdown",
   "metadata": {},
   "source": [
    "# Analysis of recruiting data vs success outcomes"
   ]
  },
  {
   "cell_type": "code",
   "execution_count": 2,
   "metadata": {},
   "outputs": [],
   "source": [
    "# import dependencies and read in needed data\n",
    "import pandas as pd\n",
    "import numpy as np\n",
    "import matplotlib.pyplot as plt\n",
    "from scipy import stats\n",
    "\n",
    "fbsRecruitingFrame = pd.read_csv(\"Data/fbsRecruitingData.csv\")\n",
    "fbsWinLossFrame = pd.read_csv(\"Data/fbsWinLossData.csv\")\n",
    "fbsWinLossFrame = fbsWinLossFrame[['season','team','games','wins','losses','ties','color']]"
   ]
  },
  {
   "cell_type": "code",
   "execution_count": 3,
   "metadata": {},
   "outputs": [
    {
     "data": {
      "text/plain": [
       "array(['SEC', 'Pac-12', 'Big 12', 'ACC', 'Big Ten'], dtype=object)"
      ]
     },
     "execution_count": 3,
     "metadata": {},
     "output_type": "execute_result"
    }
   ],
   "source": [
    "# combine data\n",
    "comboFrame = pd.merge(fbsRecruitingFrame,fbsWinLossFrame, on= ['season','team','color'], how='outer')\n",
    "comboFrame = comboFrame[comboFrame['conference'].isin(['ACC','Pac-10','Pac-12','Big Ten','SEC','Big 12'])]\n",
    "comboFrame = comboFrame.replace('Pac-10','Pac-12')\n",
    "comboFrame.conference.unique()"
   ]
  },
  {
   "cell_type": "code",
   "execution_count": 4,
   "metadata": {},
   "outputs": [],
   "source": [
    "# create some percentage metrics to normalize data\n",
    "comboFrame['winPct'] = comboFrame['wins']/comboFrame['games']*100"
   ]
  },
  {
   "cell_type": "code",
   "execution_count": 12,
   "metadata": {},
   "outputs": [],
   "source": [
    "# bin the years\n",
    "bins1 = [2004,2007,2011,2015,2019]\n",
    "\n",
    "bins2 = [2005,2008,2012,2016]\n",
    "\n",
    "bins3 = [2006,2009,2013,2017\n",
    "\n",
    "bins4 = [2007,20010,2014,2018]]"
   ]
  },
  {
   "cell_type": "code",
   "execution_count": 4,
   "metadata": {},
   "outputs": [
    {
     "data": {
      "text/html": [
       "<div>\n",
       "<style scoped>\n",
       "    .dataframe tbody tr th:only-of-type {\n",
       "        vertical-align: middle;\n",
       "    }\n",
       "\n",
       "    .dataframe tbody tr th {\n",
       "        vertical-align: top;\n",
       "    }\n",
       "\n",
       "    .dataframe thead th {\n",
       "        text-align: right;\n",
       "    }\n",
       "</style>\n",
       "<table border=\"1\" class=\"dataframe\">\n",
       "  <thead>\n",
       "    <tr style=\"text-align: right;\">\n",
       "      <th></th>\n",
       "      <th>team</th>\n",
       "      <th>conference</th>\n",
       "      <th>color</th>\n",
       "      <th>avgPoints</th>\n",
       "      <th>avgWinPct</th>\n",
       "      <th>numSeasons</th>\n",
       "    </tr>\n",
       "  </thead>\n",
       "  <tbody>\n",
       "    <tr>\n",
       "      <td>0</td>\n",
       "      <td>Alabama</td>\n",
       "      <td>SEC</td>\n",
       "      <td>#690014</td>\n",
       "      <td>283.966250</td>\n",
       "      <td>83.682984</td>\n",
       "      <td>16</td>\n",
       "    </tr>\n",
       "    <tr>\n",
       "      <td>1</td>\n",
       "      <td>Arizona</td>\n",
       "      <td>Pac-12</td>\n",
       "      <td>#002449</td>\n",
       "      <td>186.649375</td>\n",
       "      <td>47.800117</td>\n",
       "      <td>16</td>\n",
       "    </tr>\n",
       "    <tr>\n",
       "      <td>2</td>\n",
       "      <td>Arizona State</td>\n",
       "      <td>Pac-12</td>\n",
       "      <td>#942139</td>\n",
       "      <td>202.505000</td>\n",
       "      <td>57.553904</td>\n",
       "      <td>16</td>\n",
       "    </tr>\n",
       "    <tr>\n",
       "      <td>3</td>\n",
       "      <td>Arkansas</td>\n",
       "      <td>SEC</td>\n",
       "      <td>#9c1831</td>\n",
       "      <td>212.593750</td>\n",
       "      <td>48.983829</td>\n",
       "      <td>16</td>\n",
       "    </tr>\n",
       "    <tr>\n",
       "      <td>4</td>\n",
       "      <td>Auburn</td>\n",
       "      <td>SEC</td>\n",
       "      <td>#03244d</td>\n",
       "      <td>252.880000</td>\n",
       "      <td>68.815559</td>\n",
       "      <td>16</td>\n",
       "    </tr>\n",
       "    <tr>\n",
       "      <td>...</td>\n",
       "      <td>...</td>\n",
       "      <td>...</td>\n",
       "      <td>...</td>\n",
       "      <td>...</td>\n",
       "      <td>...</td>\n",
       "      <td>...</td>\n",
       "    </tr>\n",
       "    <tr>\n",
       "      <td>64</td>\n",
       "      <td>Wake Forest</td>\n",
       "      <td>ACC</td>\n",
       "      <td>#9E7E38</td>\n",
       "      <td>151.818750</td>\n",
       "      <td>46.813083</td>\n",
       "      <td>16</td>\n",
       "    </tr>\n",
       "    <tr>\n",
       "      <td>65</td>\n",
       "      <td>Washington</td>\n",
       "      <td>Pac-12</td>\n",
       "      <td>#2B2F64</td>\n",
       "      <td>208.059375</td>\n",
       "      <td>49.821533</td>\n",
       "      <td>16</td>\n",
       "    </tr>\n",
       "    <tr>\n",
       "      <td>66</td>\n",
       "      <td>Washington State</td>\n",
       "      <td>Pac-12</td>\n",
       "      <td>#94022a</td>\n",
       "      <td>172.148125</td>\n",
       "      <td>43.054341</td>\n",
       "      <td>16</td>\n",
       "    </tr>\n",
       "    <tr>\n",
       "      <td>67</td>\n",
       "      <td>West Virginia</td>\n",
       "      <td>Big 12</td>\n",
       "      <td>#FFC600</td>\n",
       "      <td>196.235000</td>\n",
       "      <td>58.049242</td>\n",
       "      <td>8</td>\n",
       "    </tr>\n",
       "    <tr>\n",
       "      <td>68</td>\n",
       "      <td>Wisconsin</td>\n",
       "      <td>Big Ten</td>\n",
       "      <td>#A00001</td>\n",
       "      <td>190.252500</td>\n",
       "      <td>76.628059</td>\n",
       "      <td>16</td>\n",
       "    </tr>\n",
       "  </tbody>\n",
       "</table>\n",
       "<p>69 rows × 6 columns</p>\n",
       "</div>"
      ],
      "text/plain": [
       "                team conference    color   avgPoints  avgWinPct  numSeasons\n",
       "0            Alabama        SEC  #690014  283.966250  83.682984          16\n",
       "1            Arizona     Pac-12  #002449  186.649375  47.800117          16\n",
       "2      Arizona State     Pac-12  #942139  202.505000  57.553904          16\n",
       "3           Arkansas        SEC  #9c1831  212.593750  48.983829          16\n",
       "4             Auburn        SEC  #03244d  252.880000  68.815559          16\n",
       "..               ...        ...      ...         ...        ...         ...\n",
       "64       Wake Forest        ACC  #9E7E38  151.818750  46.813083          16\n",
       "65        Washington     Pac-12  #2B2F64  208.059375  49.821533          16\n",
       "66  Washington State     Pac-12  #94022a  172.148125  43.054341          16\n",
       "67     West Virginia     Big 12  #FFC600  196.235000  58.049242           8\n",
       "68         Wisconsin    Big Ten  #A00001  190.252500  76.628059          16\n",
       "\n",
       "[69 rows x 6 columns]"
      ]
     },
     "execution_count": 4,
     "metadata": {},
     "output_type": "execute_result"
    }
   ],
   "source": [
    "# get average recruiting rank and win percentage of each team\n",
    "groupedTeam = comboFrame.groupby(['team','conference','color'])\n",
    "\n",
    "groupedStats = pd.DataFrame({'avgPoints':groupedTeam['recruitingPoints'].sum()/groupedTeam['recruitingPoints'].count(),\n",
    "                             'avgWinPct':groupedTeam['winPct'].sum()/groupedTeam['winPct'].count(),\n",
    "                             'numSeasons':groupedTeam['winPct'].count()\n",
    "                            })\n",
    "groupedStats = groupedStats.reset_index()\n",
    "groupedStats"
   ]
  },
  {
   "cell_type": "code",
   "execution_count": 5,
   "metadata": {},
   "outputs": [
    {
     "data": {
      "image/png": "[encoded data removed]",
      "text/plain": [
       "<Figure size 1440x720 with 1 Axes>"
      ]
     },
     "metadata": {
      "needs_background": "light"
     },
     "output_type": "display_data"
    }
   ],
   "source": [
    "# create scatter/line plot of average win percentage vs average recruiting points\n",
    "xvalues = groupedStats['avgPoints']\n",
    "yvalues = groupedStats['avgWinPct']\n",
    "(slope, intercept, rvalue, pvalue, stderr) = stats.linregress(xvalues, yvalues)\n",
    "regress_values = xvalues * slope + intercept\n",
    "line_eq = \"y = \" + str(round(slope,2)) + \"x + \" + str(round(intercept,2))\n",
    "plt.figure(figsize=(20,10))\n",
    "plt.scatter(xvalues,yvalues,color=groupedStats['color'])\n",
    "plt.plot(xvalues,regress_values,\"r-\")\n",
    "plt.annotate(line_eq,(220,10),fontsize=12,color=\"black\")\n",
    "plt.annotate(f\"The r-squared is: {round(rvalue,4)}\",(220,1),fontsize=12,color=\"black\")\n",
    "plt.title('Average Win Percentage vs Recruiting Points')\n",
    "plt.xlabel('Average Recruiting Points')\n",
    "plt.ylabel('Average Win Percentage')\n",
    "plt.ylim(0,100)\n",
    "# save figure\n",
    "plt.savefig(\"Figures/AverageWinPctVsRecruitingPts.png\")"
   ]
  },
  {
   "cell_type": "code",
   "execution_count": null,
   "metadata": {},
   "outputs": [],
   "source": []
  }
 ],
 "metadata": {
  "kernelspec": {
   "display_name": "Python 3",
   "language": "python",
   "name": "python3"
  },
  "language_info": {
   "codemirror_mode": {
    "name": "ipython",
    "version": 3
   },
   "file_extension": ".py",
   "mimetype": "text/x-python",
   "name": "python",
   "nbconvert_exporter": "python",
   "pygments_lexer": "ipython3",
   "version": "3.7.4"
  }
 },
 "nbformat": 4,
 "nbformat_minor": 2
}
