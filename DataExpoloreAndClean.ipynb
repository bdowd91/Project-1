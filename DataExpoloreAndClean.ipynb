{
 "cells": [
  {
   "cell_type": "markdown",
   "metadata": {},
   "source": [
    "# Main Program"
   ]
  },
  {
   "cell_type": "code",
   "execution_count": 1,
   "metadata": {},
   "outputs": [],
   "source": [
    "# import dependencies\n",
    "import pandas as pd\n",
    "import numpy as np\n",
    "import requests\n",
    "import json\n",
    "import matplotlib.pyplot as plt"
   ]
  },
  {
   "cell_type": "code",
   "execution_count": 2,
   "metadata": {},
   "outputs": [],
   "source": [
    "# set stub api url\n",
    "urlstub = \"https://api.collegefootballdata.com\""
   ]
  },
  {
   "cell_type": "code",
   "execution_count": 3,
   "metadata": {},
   "outputs": [],
   "source": [
    "# create list to iterate through for years 2004-2019\n",
    "years = np.arange(2004,2020,1)"
   ]
  },
  {
   "cell_type": "code",
   "execution_count": 4,
   "metadata": {},
   "outputs": [],
   "source": [
    "# get the FBS teams from each year\n",
    "fbsSchoolFrame = pd.DataFrame({})\n",
    "fbsYearFrame = pd.DataFrame({})\n",
    "for y in years:\n",
    "    fbsYearFrame = pd.DataFrame()\n",
    "    fbsOneSchoolFrame = pd.DataFrame()\n",
    "    queryurl = f\"{urlstub}/teams/fbs?year={y}\"\n",
    "    resp = requests.get(queryurl)\n",
    "    respjs = resp.json()\n",
    "    # iterate through the response to get the school name\n",
    "    for i in range(len(respjs)):\n",
    "        fbsOneSchoolFrame = pd.DataFrame(respjs[i])\n",
    "        # store per school and append to overall year frame\n",
    "        fbsYearFrame = fbsYearFrame.append(fbsOneSchoolFrame, ignore_index=True, sort=False)\n",
    "    \n",
    "    #create column to hold year\n",
    "    fbsYearFrame['Year'] = int(y)    \n",
    "    #  append to overall FBS dataframe\n",
    "    fbsSchoolFrame = fbsSchoolFrame.append(fbsYearFrame, ignore_index=True, sort=False)"
   ]
  },
  {
   "cell_type": "code",
   "execution_count": 5,
   "metadata": {},
   "outputs": [
    {
     "data": {
      "text/html": [
       "<div>\n",
       "<style scoped>\n",
       "    .dataframe tbody tr th:only-of-type {\n",
       "        vertical-align: middle;\n",
       "    }\n",
       "\n",
       "    .dataframe tbody tr th {\n",
       "        vertical-align: top;\n",
       "    }\n",
       "\n",
       "    .dataframe thead th {\n",
       "        text-align: right;\n",
       "    }\n",
       "</style>\n",
       "<table border=\"1\" class=\"dataframe\">\n",
       "  <thead>\n",
       "    <tr style=\"text-align: right;\">\n",
       "      <th></th>\n",
       "      <th>id</th>\n",
       "      <th>school</th>\n",
       "      <th>mascot</th>\n",
       "      <th>abbreviation</th>\n",
       "      <th>alt_name1</th>\n",
       "      <th>alt_name2</th>\n",
       "      <th>alt_name3</th>\n",
       "      <th>conference</th>\n",
       "      <th>division</th>\n",
       "      <th>color</th>\n",
       "      <th>alt_color</th>\n",
       "      <th>Year</th>\n",
       "    </tr>\n",
       "  </thead>\n",
       "  <tbody>\n",
       "    <tr>\n",
       "      <td>0</td>\n",
       "      <td>2005</td>\n",
       "      <td>Air Force</td>\n",
       "      <td>Falcons</td>\n",
       "      <td>AFA</td>\n",
       "      <td>None</td>\n",
       "      <td>AFA</td>\n",
       "      <td>Air Force</td>\n",
       "      <td>Mountain West</td>\n",
       "      <td>None</td>\n",
       "      <td>#004a7b</td>\n",
       "      <td>#ffffff</td>\n",
       "      <td>2004</td>\n",
       "    </tr>\n",
       "    <tr>\n",
       "      <td>2</td>\n",
       "      <td>2006</td>\n",
       "      <td>Akron</td>\n",
       "      <td>Zips</td>\n",
       "      <td>AKR</td>\n",
       "      <td>None</td>\n",
       "      <td>AKR</td>\n",
       "      <td>Akron</td>\n",
       "      <td>Mid-American</td>\n",
       "      <td>East</td>\n",
       "      <td>#00285e</td>\n",
       "      <td>#84754e</td>\n",
       "      <td>2004</td>\n",
       "    </tr>\n",
       "    <tr>\n",
       "      <td>4</td>\n",
       "      <td>333</td>\n",
       "      <td>Alabama</td>\n",
       "      <td>Crimson Tide</td>\n",
       "      <td>ALA</td>\n",
       "      <td>None</td>\n",
       "      <td>ALA</td>\n",
       "      <td>Alabama</td>\n",
       "      <td>SEC</td>\n",
       "      <td>West</td>\n",
       "      <td>#690014</td>\n",
       "      <td>#f1f2f3</td>\n",
       "      <td>2004</td>\n",
       "    </tr>\n",
       "    <tr>\n",
       "      <td>6</td>\n",
       "      <td>12</td>\n",
       "      <td>Arizona</td>\n",
       "      <td>Wildcats</td>\n",
       "      <td>ARIZ</td>\n",
       "      <td>None</td>\n",
       "      <td>ARIZ</td>\n",
       "      <td>Arizona</td>\n",
       "      <td>Pac-10</td>\n",
       "      <td>None</td>\n",
       "      <td>#002449</td>\n",
       "      <td>#00205b</td>\n",
       "      <td>2004</td>\n",
       "    </tr>\n",
       "    <tr>\n",
       "      <td>8</td>\n",
       "      <td>9</td>\n",
       "      <td>Arizona State</td>\n",
       "      <td>Sun Devils</td>\n",
       "      <td>ASU</td>\n",
       "      <td>None</td>\n",
       "      <td>ASU</td>\n",
       "      <td>Arizona State</td>\n",
       "      <td>Pac-10</td>\n",
       "      <td>None</td>\n",
       "      <td>#942139</td>\n",
       "      <td>#f1f2f3</td>\n",
       "      <td>2004</td>\n",
       "    </tr>\n",
       "  </tbody>\n",
       "</table>\n",
       "</div>"
      ],
      "text/plain": [
       "     id         school        mascot abbreviation alt_name1 alt_name2  \\\n",
       "0  2005      Air Force       Falcons          AFA      None       AFA   \n",
       "2  2006          Akron          Zips          AKR      None       AKR   \n",
       "4   333        Alabama  Crimson Tide          ALA      None       ALA   \n",
       "6    12        Arizona      Wildcats         ARIZ      None      ARIZ   \n",
       "8     9  Arizona State    Sun Devils          ASU      None       ASU   \n",
       "\n",
       "       alt_name3     conference division    color alt_color  Year  \n",
       "0      Air Force  Mountain West     None  #004a7b   #ffffff  2004  \n",
       "2          Akron   Mid-American     East  #00285e   #84754e  2004  \n",
       "4        Alabama            SEC     West  #690014   #f1f2f3  2004  \n",
       "6        Arizona         Pac-10     None  #002449   #00205b  2004  \n",
       "8  Arizona State         Pac-10     None  #942139   #f1f2f3  2004  "
      ]
     },
     "execution_count": 5,
     "metadata": {},
     "output_type": "execute_result"
    }
   ],
   "source": [
    "# convert year to an integer \n",
    "fbsSchoolFrame['Year'] = fbsSchoolFrame['Year'].astype(int)\n",
    "# remove the logos column as it was causing duplicates and drop the duplicate records\n",
    "del fbsSchoolFrame['logos']\n",
    "fbsSchoolFrame = fbsSchoolFrame.drop_duplicates()\n",
    "# preview dataframe\n",
    "fbsSchoolFrame.head()"
   ]
  },
  {
   "cell_type": "code",
   "execution_count": 6,
   "metadata": {},
   "outputs": [],
   "source": [
    "# output FBS dataframe to csv\n",
    "fbsSchoolFrame.to_csv('Data/fbsSchoolData.csv')"
   ]
  },
  {
   "cell_type": "code",
   "execution_count": null,
   "metadata": {},
   "outputs": [],
   "source": []
  }
 ],
 "metadata": {
  "kernelspec": {
   "display_name": "Python 3",
   "language": "python",
   "name": "python3"
  },
  "language_info": {
   "codemirror_mode": {
    "name": "ipython",
    "version": 3
   },
   "file_extension": ".py",
   "mimetype": "text/x-python",
   "name": "python",
   "nbconvert_exporter": "python",
   "pygments_lexer": "ipython3",
   "version": "3.7.4"
  }
 },
 "nbformat": 4,
 "nbformat_minor": 2
}
