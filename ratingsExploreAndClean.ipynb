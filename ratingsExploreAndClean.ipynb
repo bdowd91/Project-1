{
 "cells": [
  {
   "cell_type": "code",
   "execution_count": 1,
   "metadata": {},
   "outputs": [],
   "source": [
    "# import dependencies and get data already created\n",
    "import pandas as pd\n",
    "import numpy as np\n",
    "import requests\n",
    "\n",
    "# set stub api url\n",
    "urlstub = \"https://api.collegefootballdata.com\"\n",
    "\n",
    "# create list to iterate through for years 2004-2019\n",
    "years = np.arange(2004,2020,1)\n",
    "\n",
    "fbsSchoolFrame = pd.read_csv('Data/fbsSchoolData.csv')"
   ]
  },
  {
   "cell_type": "code",
   "execution_count": 2,
   "metadata": {},
   "outputs": [],
   "source": [
    "# get team rankings rank data by iterating through years\n",
    "ratingsFrame = pd.DataFrame()\n",
    "ratingsYearFrame = pd.DataFrame()\n",
    "respdf = pd.DataFrame() \n",
    "for y in years:\n",
    "    respdf = pd.DataFrame() \n",
    "    ratingsYearFrame = pd.DataFrame() \n",
    "    queryurl = f\"{urlstub}/ratings/sp?year={y}\"\n",
    "    resp = requests.get(queryurl)\n",
    "    respjs = resp.json()\n",
    "    # convert repsonse to dataframe and append to overall year recruiting dataframe\n",
    "    for i in range(len(respjs)-1):\n",
    "        respdf = pd.DataFrame({'season':[respjs[i]['year']],\n",
    "                               'team':respjs[i]['team'],\n",
    "                               'rating':respjs[i]['rating'],\n",
    "                               'nationalAverage':respjs[len(respjs)-1]['rating']\n",
    "                              })\n",
    "        ratingsYearFrame = ratingsYearFrame.append(respdf, ignore_index=True, sort=False)\n",
    "\n",
    "    # add year dataframe to overall dataframe\n",
    "    ratingsFrame = ratingsFrame.append(ratingsYearFrame, ignore_index=True, sort=False)"
   ]
  },
  {
   "cell_type": "code",
   "execution_count": 3,
   "metadata": {},
   "outputs": [],
   "source": [
    "# output dataset to csv\n",
    "ratingsFrame.to_csv('Data/fbsRatingsData.csv',index=False)"
   ]
  },
  {
   "cell_type": "code",
   "execution_count": null,
   "metadata": {},
   "outputs": [],
   "source": []
  }
 ],
 "metadata": {
  "kernelspec": {
   "display_name": "Python 3",
   "language": "python",
   "name": "python3"
  },
  "language_info": {
   "codemirror_mode": {
    "name": "ipython",
    "version": 3
   },
   "file_extension": ".py",
   "mimetype": "text/x-python",
   "name": "python",
   "nbconvert_exporter": "python",
   "pygments_lexer": "ipython3",
   "version": "3.7.4"
  }
 },
 "nbformat": 4,
 "nbformat_minor": 2
}
